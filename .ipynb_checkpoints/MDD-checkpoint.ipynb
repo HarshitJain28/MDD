{
 "cells": [
  {
   "cell_type": "code",
   "execution_count": 3,
   "metadata": {
    "cell_id": "00003-d38b67cd-cc03-4f59-be12-2b709854ecdc",
    "deepnote_cell_type": "code",
    "deepnote_to_be_reexecuted": false,
    "execution_millis": 2768,
    "execution_start": 1632219513075,
    "source_hash": "bd27224a",
    "tags": []
   },
   "outputs": [],
   "source": [
    "import numpy as np\n",
    "import pandas as pd\n",
    "\n",
    "import matplotlib.pyplot as plt"
   ]
  },
  {
   "cell_type": "code",
   "execution_count": 4,
   "metadata": {
    "cell_id": "00005-e800a74f-9591-4d2e-9f65-f41ddfd57417",
    "deepnote_cell_type": "code",
    "deepnote_to_be_reexecuted": false,
    "execution_millis": 1167,
    "execution_start": 1632219515867,
    "source_hash": "42ce759e",
    "tags": []
   },
   "outputs": [],
   "source": [
    "df = pd.read_csv('./Dataset/MDD_dataset.csv')"
   ]
  },
  {
   "cell_type": "code",
   "execution_count": 5,
   "metadata": {
    "cell_id": "00006-0e1538d0-e076-48cd-8713-74a59d5f7fee",
    "deepnote_cell_type": "code",
    "deepnote_to_be_reexecuted": false,
    "execution_millis": 72,
    "execution_start": 1632219517589,
    "source_hash": "de1e323c",
    "tags": []
   },
   "outputs": [
    {
     "name": "stdout",
     "output_type": "stream",
     "text": [
      "<class 'pandas.core.frame.DataFrame'>\n",
      "RangeIndex: 179097 entries, 0 to 179096\n",
      "Data columns (total 15 columns):\n",
      " #   Column                Non-Null Count   Dtype \n",
      "---  ------                --------------   ----- \n",
      " 0   Age                   179096 non-null  object\n",
      " 1   Sex                   179096 non-null  object\n",
      " 2   Race                  179096 non-null  object\n",
      " 3   Employment Status     179096 non-null  object\n",
      " 4   Education Status      179096 non-null  object\n",
      " 5   Alcohol               179096 non-null  object\n",
      " 6   Drugs                 179096 non-null  object\n",
      " 7   High Blood Pressure   179096 non-null  object\n",
      " 8   Obesity               179096 non-null  object\n",
      " 9   Diabetes              179096 non-null  object\n",
      " 10  Smokes                179096 non-null  object\n",
      " 11  Other Mental Illness  179096 non-null  object\n",
      " 12  Insurance             179096 non-null  object\n",
      " 13  Financial Assistance  179096 non-null  object\n",
      " 14  Mental Illness        179096 non-null  object\n",
      "dtypes: object(15)\n",
      "memory usage: 20.5+ MB\n"
     ]
    }
   ],
   "source": [
    "df.info()"
   ]
  },
  {
   "cell_type": "code",
   "execution_count": 4,
   "metadata": {
    "cell_id": "00003-500062a7-5f84-4889-bba3-7c9d59e20b8b",
    "deepnote_cell_type": "code",
    "deepnote_to_be_reexecuted": false,
    "execution_millis": 101,
    "execution_start": 1632219517657,
    "source_hash": "54f0cf49",
    "tags": []
   },
   "outputs": [],
   "source": [
    "test_df = df.copy()"
   ]
  },
  {
   "cell_type": "code",
   "execution_count": 6,
   "metadata": {
    "cell_id": "00009-20542e4a-3437-408d-aa1b-00550d9de3d7",
    "deepnote_cell_type": "code",
    "deepnote_to_be_reexecuted": false,
    "execution_millis": 2819,
    "execution_start": 1632219517763,
    "source_hash": "5460511f",
    "tags": []
   },
   "outputs": [],
   "source": [
    "df.replace({'YES':1 ,'NO':0}, inplace=True)"
   ]
  },
  {
   "cell_type": "code",
   "execution_count": 7,
   "metadata": {
    "cell_id": "00005-6da0d1fe-3299-47c9-a667-348989d8a61a",
    "deepnote_cell_type": "code",
    "deepnote_to_be_reexecuted": false,
    "execution_millis": 125,
    "execution_start": 1632219520582,
    "source_hash": "57e298c6",
    "tags": []
   },
   "outputs": [],
   "source": [
    "df.replace({'FEMALE': 0, 'MALE': 1}, inplace=True)"
   ]
  },
  {
   "cell_type": "code",
   "execution_count": 8,
   "metadata": {
    "cell_id": "00005-91ac65d8-51a2-4749-97d1-a32bf936be7b",
    "deepnote_cell_type": "code",
    "deepnote_to_be_reexecuted": false,
    "execution_millis": 260,
    "execution_start": 1632219520707,
    "source_hash": "5adb3ea8",
    "tags": []
   },
   "outputs": [],
   "source": [
    "df.replace({'CHILD': 0, 'ADULT': 1}, inplace=True)"
   ]
  },
  {
   "cell_type": "code",
   "execution_count": 9,
   "metadata": {
    "cell_id": "00007-297c1d4a-60a5-4f09-a098-ac4467689c55",
    "deepnote_cell_type": "code",
    "deepnote_to_be_reexecuted": false,
    "execution_millis": 181,
    "execution_start": 1632219570142,
    "source_hash": "cb87f177",
    "tags": []
   },
   "outputs": [],
   "source": [
    "df.replace({'BLACK': 0, 'WHITE': 1}, inplace=True)"
   ]
  },
  {
   "cell_type": "code",
   "execution_count": 10,
   "metadata": {
    "cell_id": "00008-2f4d0be6-9c03-4218-b846-1b2c8e359b92",
    "deepnote_cell_type": "code",
    "deepnote_to_be_reexecuted": false,
    "execution_millis": 30,
    "execution_start": 1632219597207,
    "source_hash": "9fe2a6d2",
    "tags": []
   },
   "outputs": [],
   "source": [
    "df.replace({'NOT EMPLOYED': 0, 'EMPLOYED': 1}, inplace=True)"
   ]
  },
  {
   "cell_type": "code",
   "execution_count": 11,
   "metadata": {
    "cell_id": "00006-7f5b573b-7387-4ca3-832e-15116331de7f",
    "deepnote_cell_type": "code",
    "deepnote_to_be_reexecuted": false,
    "execution_millis": 53,
    "execution_start": 1632219520978,
    "source_hash": "547d25a6",
    "tags": []
   },
   "outputs": [],
   "source": [
    "df_one = pd.get_dummies(df[\"Education Status\"])"
   ]
  },
  {
   "cell_type": "code",
   "execution_count": 12,
   "metadata": {
    "cell_id": "00006-9ff81798-8c5b-4faf-a8e8-0008c6b901e8",
    "deepnote_cell_type": "code",
    "deepnote_to_be_reexecuted": false,
    "execution_millis": 87,
    "execution_start": 1632219603697,
    "source_hash": "6fbc9299",
    "tags": []
   },
   "outputs": [
    {
     "data": {
      "text/html": [
       "<div>\n",
       "<style scoped>\n",
       "    .dataframe tbody tr th:only-of-type {\n",
       "        vertical-align: middle;\n",
       "    }\n",
       "\n",
       "    .dataframe tbody tr th {\n",
       "        vertical-align: top;\n",
       "    }\n",
       "\n",
       "    .dataframe thead th {\n",
       "        text-align: right;\n",
       "    }\n",
       "</style>\n",
       "<table border=\"1\" class=\"dataframe\">\n",
       "  <thead>\n",
       "    <tr style=\"text-align: right;\">\n",
       "      <th></th>\n",
       "      <th>Age</th>\n",
       "      <th>Sex</th>\n",
       "      <th>Race</th>\n",
       "      <th>Employment Status</th>\n",
       "      <th>Alcohol</th>\n",
       "      <th>Drugs</th>\n",
       "      <th>High Blood Pressure</th>\n",
       "      <th>Obesity</th>\n",
       "      <th>Diabetes</th>\n",
       "      <th>Smokes</th>\n",
       "      <th>Other Mental Illness</th>\n",
       "      <th>Insurance</th>\n",
       "      <th>Financial Assistance</th>\n",
       "      <th>Mental Illness</th>\n",
       "      <th>College</th>\n",
       "      <th>High School</th>\n",
       "    </tr>\n",
       "  </thead>\n",
       "  <tbody>\n",
       "    <tr>\n",
       "      <th>0</th>\n",
       "      <td>1.0</td>\n",
       "      <td>1</td>\n",
       "      <td>0.0</td>\n",
       "      <td>0.0</td>\n",
       "      <td>0.0</td>\n",
       "      <td>0.0</td>\n",
       "      <td>1.0</td>\n",
       "      <td>1.0</td>\n",
       "      <td>1.0</td>\n",
       "      <td>1.0</td>\n",
       "      <td>1.0</td>\n",
       "      <td>0.0</td>\n",
       "      <td>0.0</td>\n",
       "      <td>1.0</td>\n",
       "      <td>0</td>\n",
       "      <td>1</td>\n",
       "    </tr>\n",
       "    <tr>\n",
       "      <th>1</th>\n",
       "      <td>1.0</td>\n",
       "      <td>1</td>\n",
       "      <td>1.0</td>\n",
       "      <td>0.0</td>\n",
       "      <td>1.0</td>\n",
       "      <td>0.0</td>\n",
       "      <td>1.0</td>\n",
       "      <td>1.0</td>\n",
       "      <td>1.0</td>\n",
       "      <td>1.0</td>\n",
       "      <td>1.0</td>\n",
       "      <td>1.0</td>\n",
       "      <td>1.0</td>\n",
       "      <td>1.0</td>\n",
       "      <td>1</td>\n",
       "      <td>0</td>\n",
       "    </tr>\n",
       "    <tr>\n",
       "      <th>2</th>\n",
       "      <td>1.0</td>\n",
       "      <td>1</td>\n",
       "      <td>1.0</td>\n",
       "      <td>0.0</td>\n",
       "      <td>1.0</td>\n",
       "      <td>1.0</td>\n",
       "      <td>1.0</td>\n",
       "      <td>1.0</td>\n",
       "      <td>1.0</td>\n",
       "      <td>1.0</td>\n",
       "      <td>1.0</td>\n",
       "      <td>0.0</td>\n",
       "      <td>0.0</td>\n",
       "      <td>1.0</td>\n",
       "      <td>1</td>\n",
       "      <td>0</td>\n",
       "    </tr>\n",
       "    <tr>\n",
       "      <th>3</th>\n",
       "      <td>1.0</td>\n",
       "      <td>0</td>\n",
       "      <td>0.0</td>\n",
       "      <td>0.0</td>\n",
       "      <td>1.0</td>\n",
       "      <td>1.0</td>\n",
       "      <td>1.0</td>\n",
       "      <td>1.0</td>\n",
       "      <td>1.0</td>\n",
       "      <td>1.0</td>\n",
       "      <td>1.0</td>\n",
       "      <td>0.0</td>\n",
       "      <td>0.0</td>\n",
       "      <td>1.0</td>\n",
       "      <td>0</td>\n",
       "      <td>1</td>\n",
       "    </tr>\n",
       "    <tr>\n",
       "      <th>4</th>\n",
       "      <td>1.0</td>\n",
       "      <td>1</td>\n",
       "      <td>0.0</td>\n",
       "      <td>0.0</td>\n",
       "      <td>1.0</td>\n",
       "      <td>1.0</td>\n",
       "      <td>0.0</td>\n",
       "      <td>1.0</td>\n",
       "      <td>1.0</td>\n",
       "      <td>1.0</td>\n",
       "      <td>1.0</td>\n",
       "      <td>1.0</td>\n",
       "      <td>0.0</td>\n",
       "      <td>1.0</td>\n",
       "      <td>0</td>\n",
       "      <td>1</td>\n",
       "    </tr>\n",
       "    <tr>\n",
       "      <th>...</th>\n",
       "      <td>...</td>\n",
       "      <td>...</td>\n",
       "      <td>...</td>\n",
       "      <td>...</td>\n",
       "      <td>...</td>\n",
       "      <td>...</td>\n",
       "      <td>...</td>\n",
       "      <td>...</td>\n",
       "      <td>...</td>\n",
       "      <td>...</td>\n",
       "      <td>...</td>\n",
       "      <td>...</td>\n",
       "      <td>...</td>\n",
       "      <td>...</td>\n",
       "      <td>...</td>\n",
       "      <td>...</td>\n",
       "    </tr>\n",
       "    <tr>\n",
       "      <th>179092</th>\n",
       "      <td>0.0</td>\n",
       "      <td>1</td>\n",
       "      <td>0.0</td>\n",
       "      <td>0.0</td>\n",
       "      <td>1.0</td>\n",
       "      <td>1.0</td>\n",
       "      <td>1.0</td>\n",
       "      <td>1.0</td>\n",
       "      <td>1.0</td>\n",
       "      <td>1.0</td>\n",
       "      <td>1.0</td>\n",
       "      <td>0.0</td>\n",
       "      <td>0.0</td>\n",
       "      <td>1.0</td>\n",
       "      <td>0</td>\n",
       "      <td>1</td>\n",
       "    </tr>\n",
       "    <tr>\n",
       "      <th>179093</th>\n",
       "      <td>0.0</td>\n",
       "      <td>1</td>\n",
       "      <td>1.0</td>\n",
       "      <td>0.0</td>\n",
       "      <td>1.0</td>\n",
       "      <td>1.0</td>\n",
       "      <td>1.0</td>\n",
       "      <td>1.0</td>\n",
       "      <td>1.0</td>\n",
       "      <td>1.0</td>\n",
       "      <td>1.0</td>\n",
       "      <td>0.0</td>\n",
       "      <td>0.0</td>\n",
       "      <td>1.0</td>\n",
       "      <td>0</td>\n",
       "      <td>0</td>\n",
       "    </tr>\n",
       "    <tr>\n",
       "      <th>179094</th>\n",
       "      <td>0.0</td>\n",
       "      <td>0</td>\n",
       "      <td>0.0</td>\n",
       "      <td>0.0</td>\n",
       "      <td>1.0</td>\n",
       "      <td>1.0</td>\n",
       "      <td>1.0</td>\n",
       "      <td>1.0</td>\n",
       "      <td>1.0</td>\n",
       "      <td>1.0</td>\n",
       "      <td>1.0</td>\n",
       "      <td>0.0</td>\n",
       "      <td>0.0</td>\n",
       "      <td>1.0</td>\n",
       "      <td>0</td>\n",
       "      <td>1</td>\n",
       "    </tr>\n",
       "    <tr>\n",
       "      <th>179095</th>\n",
       "      <td>0.0</td>\n",
       "      <td>0</td>\n",
       "      <td>0.0</td>\n",
       "      <td>0.0</td>\n",
       "      <td>1.0</td>\n",
       "      <td>1.0</td>\n",
       "      <td>1.0</td>\n",
       "      <td>1.0</td>\n",
       "      <td>1.0</td>\n",
       "      <td>1.0</td>\n",
       "      <td>1.0</td>\n",
       "      <td>0.0</td>\n",
       "      <td>1.0</td>\n",
       "      <td>1.0</td>\n",
       "      <td>0</td>\n",
       "      <td>1</td>\n",
       "    </tr>\n",
       "    <tr>\n",
       "      <th>179096</th>\n",
       "      <td>NaN</td>\n",
       "      <td>NaN</td>\n",
       "      <td>NaN</td>\n",
       "      <td>NaN</td>\n",
       "      <td>NaN</td>\n",
       "      <td>NaN</td>\n",
       "      <td>NaN</td>\n",
       "      <td>NaN</td>\n",
       "      <td>NaN</td>\n",
       "      <td>NaN</td>\n",
       "      <td>NaN</td>\n",
       "      <td>NaN</td>\n",
       "      <td>NaN</td>\n",
       "      <td>NaN</td>\n",
       "      <td>0</td>\n",
       "      <td>0</td>\n",
       "    </tr>\n",
       "  </tbody>\n",
       "</table>\n",
       "<p>179097 rows × 16 columns</p>\n",
       "</div>"
      ],
      "text/plain": [
       "        Age  Sex  Race  Employment Status  Alcohol  Drugs  \\\n",
       "0       1.0    1   0.0                0.0      0.0    0.0   \n",
       "1       1.0    1   1.0                0.0      1.0    0.0   \n",
       "2       1.0    1   1.0                0.0      1.0    1.0   \n",
       "3       1.0    0   0.0                0.0      1.0    1.0   \n",
       "4       1.0    1   0.0                0.0      1.0    1.0   \n",
       "...     ...  ...   ...                ...      ...    ...   \n",
       "179092  0.0    1   0.0                0.0      1.0    1.0   \n",
       "179093  0.0    1   1.0                0.0      1.0    1.0   \n",
       "179094  0.0    0   0.0                0.0      1.0    1.0   \n",
       "179095  0.0    0   0.0                0.0      1.0    1.0   \n",
       "179096  NaN  NaN   NaN                NaN      NaN    NaN   \n",
       "\n",
       "        High Blood Pressure  Obesity  Diabetes  Smokes  Other Mental Illness  \\\n",
       "0                       1.0      1.0       1.0     1.0                   1.0   \n",
       "1                       1.0      1.0       1.0     1.0                   1.0   \n",
       "2                       1.0      1.0       1.0     1.0                   1.0   \n",
       "3                       1.0      1.0       1.0     1.0                   1.0   \n",
       "4                       0.0      1.0       1.0     1.0                   1.0   \n",
       "...                     ...      ...       ...     ...                   ...   \n",
       "179092                  1.0      1.0       1.0     1.0                   1.0   \n",
       "179093                  1.0      1.0       1.0     1.0                   1.0   \n",
       "179094                  1.0      1.0       1.0     1.0                   1.0   \n",
       "179095                  1.0      1.0       1.0     1.0                   1.0   \n",
       "179096                  NaN      NaN       NaN     NaN                   NaN   \n",
       "\n",
       "        Insurance  Financial Assistance  Mental Illness  College  High School  \n",
       "0             0.0                   0.0             1.0        0            1  \n",
       "1             1.0                   1.0             1.0        1            0  \n",
       "2             0.0                   0.0             1.0        1            0  \n",
       "3             0.0                   0.0             1.0        0            1  \n",
       "4             1.0                   0.0             1.0        0            1  \n",
       "...           ...                   ...             ...      ...          ...  \n",
       "179092        0.0                   0.0             1.0        0            1  \n",
       "179093        0.0                   0.0             1.0        0            0  \n",
       "179094        0.0                   0.0             1.0        0            1  \n",
       "179095        0.0                   1.0             1.0        0            1  \n",
       "179096        NaN                   NaN             NaN        0            0  \n",
       "\n",
       "[179097 rows x 16 columns]"
      ]
     },
     "execution_count": 12,
     "metadata": {},
     "output_type": "execute_result"
    }
   ],
   "source": [
    "new_df = pd.concat((df, df_one), axis=1)\n",
    "new_df = new_df.drop([\"Education Status\",\"Unknown\"], axis=1)\n",
    "new_df"
   ]
  },
  {
   "cell_type": "code",
   "execution_count": 13,
   "metadata": {
    "cell_id": "00008-36b52833-b440-458e-90ff-19dc58b65617",
    "deepnote_cell_type": "code",
    "deepnote_to_be_reexecuted": false,
    "execution_millis": 65,
    "execution_start": 1632219609539,
    "source_hash": "cddbe09c",
    "tags": []
   },
   "outputs": [],
   "source": [
    "new_df['Sex'] = new_df['Sex'].apply(lambda x: 1 if x=='UNKNOWN' else x)"
   ]
  },
  {
   "cell_type": "code",
   "execution_count": 14,
   "metadata": {
    "cell_id": "00008-c13d17d4-ca1f-4b43-85c6-2411e67177b6",
    "deepnote_cell_type": "code",
    "deepnote_to_be_reexecuted": false,
    "execution_millis": 0,
    "execution_start": 1632219614224,
    "source_hash": "ff440fc7",
    "tags": []
   },
   "outputs": [],
   "source": [
    "def show_unique(df):\n",
    "    for col in df:\n",
    "        print(f'{col} unique: {df[col].unique()}')"
   ]
  },
  {
   "cell_type": "code",
   "execution_count": 21,
   "metadata": {
    "cell_id": "00009-b968b431-0d78-463b-9a62-66fbacca791e",
    "deepnote_cell_type": "code",
    "deepnote_to_be_reexecuted": false,
    "execution_millis": 6,
    "execution_start": 1632220405923,
    "source_hash": "ad37e424",
    "tags": []
   },
   "outputs": [
    {
     "name": "stdout",
     "output_type": "stream",
     "text": [
      "Age unique: [1. 0.]\n",
      "Sex unique: [1. 0.]\n",
      "Race unique: [0. 1.]\n",
      "Employment Status unique: [0. 1.]\n",
      "Alcohol unique: [0. 1.]\n",
      "Drugs unique: [0. 1.]\n",
      "High Blood Pressure unique: [1. 0.]\n",
      "Obesity unique: [1. 0.]\n",
      "Diabetes unique: [1. 0.]\n",
      "Smokes unique: [1. 0.]\n",
      "Other Mental Illness unique: [1. 0.]\n",
      "Insurance unique: [0. 1.]\n",
      "Financial Assistance unique: [0. 1.]\n",
      "Mental Illness unique: [1. 0.]\n",
      "College unique: [0 1]\n",
      "High School unique: [1 0]\n"
     ]
    }
   ],
   "source": [
    "show_unique(new_df)"
   ]
  },
  {
   "cell_type": "code",
   "execution_count": 20,
   "metadata": {
    "cell_id": "00011-9ee936ad-c29b-48c8-939f-0045433e9022",
    "deepnote_cell_type": "code",
    "deepnote_to_be_reexecuted": false,
    "execution_millis": 25,
    "execution_start": 1632219521541,
    "source_hash": "c7e47325",
    "tags": []
   },
   "outputs": [
    {
     "data": {
      "text/plain": [
       "1.0    166407\n",
       "0.0     12689\n",
       "Name: Mental Illness, dtype: int64"
      ]
     },
     "execution_count": 20,
     "metadata": {},
     "output_type": "execute_result"
    }
   ],
   "source": [
    "new_df['Mental Illness'].value_counts()"
   ]
  },
  {
   "cell_type": "code",
   "execution_count": 19,
   "metadata": {},
   "outputs": [],
   "source": [
    "new_df = new_df[:179096]"
   ]
  },
  {
   "cell_type": "code",
   "execution_count": 22,
   "metadata": {
    "cell_id": "00008-2e4d306f-edb8-4f7a-89b7-3eea4b986cbd",
    "deepnote_cell_type": "code",
    "deepnote_to_be_reexecuted": false,
    "execution_millis": 3,
    "execution_start": 1632220589945,
    "source_hash": "ef8bb191",
    "tags": []
   },
   "outputs": [],
   "source": [
    "X = new_df.drop('Mental Illness',axis=1)\n",
    "y = new_df['Mental Illness']\n",
    "# X = np.asarray(X).astype(np.float32)"
   ]
  },
  {
   "cell_type": "code",
   "execution_count": 23,
   "metadata": {
    "cell_id": "00026-739ba1e5-f42b-4dc7-aa36-86b6f19d3bcb",
    "deepnote_cell_type": "code",
    "deepnote_to_be_reexecuted": false,
    "execution_millis": 2282,
    "execution_start": 1632220755323,
    "source_hash": "11e86b5b",
    "tags": []
   },
   "outputs": [],
   "source": [
    "from imblearn.over_sampling import SMOTE\n",
    "\n",
    "smote = SMOTE(sampling_strategy='minority')\n",
    "\n",
    "X_smot, y_smot = smote.fit_resample(X,y)\n",
    "X_smot = np.asarray(X_smot).astype(np.float32)"
   ]
  },
  {
   "cell_type": "code",
   "execution_count": 24,
   "metadata": {
    "cell_id": "00017-a32faabf-970c-4ce7-ac8c-c6f2bffe725c",
    "deepnote_cell_type": "code",
    "deepnote_to_be_reexecuted": false,
    "execution_millis": 8,
    "execution_start": 1632220795431,
    "source_hash": "56410985",
    "tags": []
   },
   "outputs": [
    {
     "name": "stdout",
     "output_type": "stream",
     "text": [
      "332814 332814\n"
     ]
    }
   ],
   "source": [
    "print(len(X_smot),len(y_smot))"
   ]
  },
  {
   "cell_type": "code",
   "execution_count": 25,
   "metadata": {
    "cell_id": "00007-4e7a6c81-4a46-4381-9452-ce16b5592854",
    "deepnote_cell_type": "code",
    "deepnote_to_be_reexecuted": false,
    "execution_millis": 205,
    "execution_start": 1632220975413,
    "source_hash": "7a095222",
    "tags": []
   },
   "outputs": [],
   "source": [
    "from sklearn.model_selection import train_test_split\n",
    "X_train, X_test, y_train, y_test = train_test_split(X_smot,y_smot,test_size=0.3, stratify=y_smot)"
   ]
  },
  {
   "cell_type": "code",
   "execution_count": 26,
   "metadata": {
    "cell_id": "00010-9b859d24-a2de-4f3c-b12c-06cf43174f0e",
    "deepnote_cell_type": "code",
    "deepnote_to_be_reexecuted": false,
    "execution_millis": 387401,
    "execution_start": 1632221628554,
    "source_hash": "fcce0273",
    "tags": []
   },
   "outputs": [
    {
     "name": "stdout",
     "output_type": "stream",
     "text": [
      "Epoch 1/40\n",
      "7281/7281 [==============================] - 9s 1ms/step - loss: 0.4838 - accuracy: 0.7735\n",
      "Epoch 2/40\n",
      "7281/7281 [==============================] - 10s 1ms/step - loss: 0.4691 - accuracy: 0.7799\n",
      "Epoch 3/40\n",
      "7281/7281 [==============================] - 10s 1ms/step - loss: 0.4647 - accuracy: 0.7814\n",
      "Epoch 4/40\n",
      "7281/7281 [==============================] - 9s 1ms/step - loss: 0.4611 - accuracy: 0.7835\n",
      "Epoch 5/40\n",
      "7281/7281 [==============================] - 10s 1ms/step - loss: 0.4587 - accuracy: 0.7838\n",
      "Epoch 6/40\n",
      "7281/7281 [==============================] - 10s 1ms/step - loss: 0.4565 - accuracy: 0.7846\n",
      "Epoch 7/40\n",
      "7281/7281 [==============================] - 10s 1ms/step - loss: 0.4549 - accuracy: 0.7851\n",
      "Epoch 8/40\n",
      "7281/7281 [==============================] - 10s 1ms/step - loss: 0.4535 - accuracy: 0.7855\n",
      "Epoch 9/40\n",
      "7281/7281 [==============================] - 9s 1ms/step - loss: 0.4523 - accuracy: 0.7854\n",
      "Epoch 10/40\n",
      "7281/7281 [==============================] - 10s 1ms/step - loss: 0.4511 - accuracy: 0.7859\n",
      "Epoch 11/40\n",
      "7281/7281 [==============================] - 10s 1ms/step - loss: 0.4501 - accuracy: 0.7865\n",
      "Epoch 12/40\n",
      "7281/7281 [==============================] - 10s 1ms/step - loss: 0.4488 - accuracy: 0.7868\n",
      "Epoch 13/40\n",
      "7281/7281 [==============================] - 8s 1ms/step - loss: 0.4480 - accuracy: 0.7870\n",
      "Epoch 14/40\n",
      "7281/7281 [==============================] - 9s 1ms/step - loss: 0.4468 - accuracy: 0.7874\n",
      "Epoch 15/40\n",
      "7281/7281 [==============================] - 10s 1ms/step - loss: 0.4462 - accuracy: 0.7877 0s - loss:\n",
      "Epoch 16/40\n",
      "7281/7281 [==============================] - 13s 2ms/step - loss: 0.4454 - accuracy: 0.7872 0s - los\n",
      "Epoch 17/40\n",
      "7281/7281 [==============================] - 11s 2ms/step - loss: 0.4448 - accuracy: 0.7882\n",
      "Epoch 18/40\n",
      "7281/7281 [==============================] - 10s 1ms/step - loss: 0.4441 - accuracy: 0.7879\n",
      "Epoch 19/40\n",
      "7281/7281 [==============================] - 11s 2ms/step - loss: 0.4434 - accuracy: 0.7885 0s - loss: 0.4436 \n",
      "Epoch 20/40\n",
      "7281/7281 [==============================] - 11s 2ms/step - loss: 0.4429 - accuracy: 0.7887 0s - loss: 0.4429 - accuracy: 0.\n",
      "Epoch 21/40\n",
      "7281/7281 [==============================] - 9s 1ms/step - loss: 0.4418 - accuracy: 0.7887\n",
      "Epoch 22/40\n",
      "7281/7281 [==============================] - 10s 1ms/step - loss: 0.4416 - accuracy: 0.7883\n",
      "Epoch 23/40\n",
      "7281/7281 [==============================] - 10s 1ms/step - loss: 0.4410 - accuracy: 0.7887\n",
      "Epoch 24/40\n",
      "7281/7281 [==============================] - 9s 1ms/step - loss: 0.4404 - accuracy: 0.7897\n",
      "Epoch 25/40\n",
      "7281/7281 [==============================] - 10s 1ms/step - loss: 0.4399 - accuracy: 0.7895\n",
      "Epoch 26/40\n",
      "7281/7281 [==============================] - 9s 1ms/step - loss: 0.4393 - accuracy: 0.7898\n",
      "Epoch 27/40\n",
      "7281/7281 [==============================] - 9s 1ms/step - loss: 0.4389 - accuracy: 0.7900\n",
      "Epoch 28/40\n",
      "7281/7281 [==============================] - 8s 1ms/step - loss: 0.4382 - accuracy: 0.7907\n",
      "Epoch 29/40\n",
      "7281/7281 [==============================] - 8s 1ms/step - loss: 0.4379 - accuracy: 0.7903\n",
      "Epoch 30/40\n",
      "7281/7281 [==============================] - 9s 1ms/step - loss: 0.4377 - accuracy: 0.7906: 2s - loss: 0.4 - ETA\n",
      "Epoch 31/40\n",
      "7281/7281 [==============================] - 10s 1ms/step - loss: 0.4373 - accuracy: 0.7901\n",
      "Epoch 32/40\n",
      "7281/7281 [==============================] - 10s 1ms/step - loss: 0.4366 - accuracy: 0.7908\n",
      "Epoch 33/40\n",
      "7281/7281 [==============================] - 10s 1ms/step - loss: 0.4366 - accuracy: 0.7910\n",
      "Epoch 34/40\n",
      "7281/7281 [==============================] - 9s 1ms/step - loss: 0.4364 - accuracy: 0.7914\n",
      "Epoch 35/40\n",
      "7281/7281 [==============================] - 9s 1ms/step - loss: 0.4361 - accuracy: 0.7911\n",
      "Epoch 36/40\n",
      "7281/7281 [==============================] - 9s 1ms/step - loss: 0.4356 - accuracy: 0.7909\n",
      "Epoch 37/40\n",
      "7281/7281 [==============================] - 9s 1ms/step - loss: 0.4355 - accuracy: 0.7915\n",
      "Epoch 38/40\n",
      "7281/7281 [==============================] - 10s 1ms/step - loss: 0.4350 - accuracy: 0.7919\n",
      "Epoch 39/40\n",
      "7281/7281 [==============================] - 8s 1ms/step - loss: 0.4348 - accuracy: 0.7914\n",
      "Epoch 40/40\n",
      "7281/7281 [==============================] - 10s 1ms/step - loss: 0.4344 - accuracy: 0.7918\n"
     ]
    },
    {
     "data": {
      "text/plain": [
       "<keras.callbacks.History at 0x1f668594c40>"
      ]
     },
     "execution_count": 26,
     "metadata": {},
     "output_type": "execute_result"
    }
   ],
   "source": [
    "from tensorflow import keras\n",
    "model = keras.Sequential([\n",
    "    keras.layers.Dense(15, input_shape=(15,), activation='relu'),\n",
    "    keras.layers.Dense(60, activation=\"relu\"),\n",
    "    keras.layers.Dense(30, activation=\"relu\"),\n",
    "    keras.layers.Dense(15, activation=\"relu\"),\n",
    "    keras.layers.Dense(1, activation='sigmoid')\n",
    "])\n",
    "\n",
    "model.compile(optimizer='adam',\n",
    "             loss='binary_crossentropy',\n",
    "             metrics=['accuracy'])\n",
    "\n",
    "model.fit(X_train, y_train, epochs=40)"
   ]
  },
  {
   "cell_type": "code",
   "execution_count": 27,
   "metadata": {
    "cell_id": "00015-56edd380-5fce-4812-a7fd-c2021d69a074",
    "deepnote_cell_type": "code",
    "deepnote_to_be_reexecuted": false,
    "execution_millis": 2758,
    "execution_start": 1632222024716,
    "source_hash": "32807fe8",
    "tags": []
   },
   "outputs": [
    {
     "name": "stdout",
     "output_type": "stream",
     "text": [
      "3121/3121 [==============================] - 3s 861us/step - loss: 0.4411 - accuracy: 0.7885\n"
     ]
    },
    {
     "data": {
      "text/plain": [
       "[0.44112056493759155, 0.7884921431541443]"
      ]
     },
     "execution_count": 27,
     "metadata": {},
     "output_type": "execute_result"
    }
   ],
   "source": [
    "model.evaluate(X_test,y_test)"
   ]
  },
  {
   "cell_type": "code",
   "execution_count": 75,
   "metadata": {
    "cell_id": "00016-6bdad78b-5341-4a89-af8c-d6670227d026",
    "deepnote_cell_type": "code",
    "deepnote_to_be_reexecuted": false,
    "execution_millis": 1645,
    "execution_start": 1632222032184,
    "source_hash": "792d35b7",
    "tags": []
   },
   "outputs": [
    {
     "data": {
      "text/plain": [
       "array([[0.9962125 ],\n",
       "       [0.30188197],\n",
       "       [0.6723111 ],\n",
       "       ...,\n",
       "       [0.98485076],\n",
       "       [0.20401183],\n",
       "       [0.4793634 ]], dtype=float32)"
      ]
     },
     "execution_count": 75,
     "metadata": {},
     "output_type": "execute_result"
    }
   ],
   "source": [
    "y_pred = model.predict(X_test)\n",
    "y_pred"
   ]
  },
  {
   "cell_type": "code",
   "execution_count": 76,
   "metadata": {
    "cell_id": "00017-8d7ae1aa-20f8-4409-bc37-d4865b597410",
    "deepnote_cell_type": "code",
    "deepnote_to_be_reexecuted": false,
    "execution_millis": 137,
    "execution_start": 1632222035667,
    "source_hash": "2b79c25a",
    "tags": []
   },
   "outputs": [],
   "source": [
    "y_preds = []\n",
    "for y in y_pred:\n",
    "    if y>0.5:\n",
    "        y_preds.append(1)\n",
    "    else:\n",
    "        y_preds.append(0)"
   ]
  },
  {
   "cell_type": "code",
   "execution_count": 77,
   "metadata": {
    "cell_id": "00023-0225d510-ec4a-4897-944d-681f192ef7f0",
    "deepnote_cell_type": "code",
    "deepnote_to_be_reexecuted": false,
    "execution_millis": 8,
    "execution_start": 1632222038748,
    "source_hash": "97548054",
    "tags": []
   },
   "outputs": [
    {
     "name": "stdout",
     "output_type": "stream",
     "text": [
      "79565     1\n",
      "106894    1\n",
      "77330     1\n",
      "289942    0\n",
      "105587    0\n",
      "Name: Mental Illness, dtype: int64\n",
      "[1, 0, 1, 1, 0]\n"
     ]
    }
   ],
   "source": [
    "print(y_test[:5])\n",
    "print(y_preds[:5])"
   ]
  },
  {
   "cell_type": "code",
   "execution_count": 78,
   "metadata": {
    "cell_id": "00018-001803be-90a4-4c9d-8180-3419d2c3040a",
    "deepnote_cell_type": "code",
    "deepnote_to_be_reexecuted": false,
    "execution_millis": 213,
    "execution_start": 1632222043547,
    "source_hash": "afef4abc",
    "tags": []
   },
   "outputs": [
    {
     "name": "stdout",
     "output_type": "stream",
     "text": [
      "              precision    recall  f1-score   support\n",
      "\n",
      "           0       0.79      0.78      0.79     49922\n",
      "           1       0.78      0.80      0.79     49923\n",
      "\n",
      "    accuracy                           0.79     99845\n",
      "   macro avg       0.79      0.79      0.79     99845\n",
      "weighted avg       0.79      0.79      0.79     99845\n",
      "\n"
     ]
    }
   ],
   "source": [
    "from sklearn.metrics import classification_report\n",
    "print(classification_report(y_test,y_preds))"
   ]
  },
  {
   "cell_type": "code",
   "execution_count": 71,
   "metadata": {
    "cell_id": "00019-33556fcc-cbae-48ba-9e2c-b831a669406e",
    "deepnote_cell_type": "code",
    "deepnote_to_be_reexecuted": false,
    "execution_millis": 37,
    "execution_start": 1632221522268,
    "source_hash": "b3b37de1",
    "tags": []
   },
   "outputs": [
    {
     "data": {
      "text/plain": [
       "<tf.Tensor: shape=(2, 2), dtype=int32, numpy=\n",
       "array([[38919, 11003],\n",
       "       [10348, 39575]], dtype=int32)>"
      ]
     },
     "execution_count": 71,
     "metadata": {},
     "output_type": "execute_result"
    }
   ],
   "source": [
    "import tensorflow as tf\n",
    "cm = tf.math.confusion_matrix(labels=y_test, predictions=y_preds)\n",
    "cm"
   ]
  },
  {
   "cell_type": "code",
   "execution_count": 72,
   "metadata": {
    "cell_id": "00020-c6f463b1-9693-4d4c-b2a5-3f1eb42235b0",
    "deepnote_cell_type": "code",
    "deepnote_to_be_reexecuted": false,
    "execution_millis": 268,
    "execution_start": 1632221529790,
    "source_hash": "671730f5",
    "tags": []
   },
   "outputs": [
    {
     "data": {
      "text/plain": [
       "Text(33.0, 0.5, 'true')"
      ]
     },
     "execution_count": 72,
     "metadata": {},
     "output_type": "execute_result"
    },
    {
     "data": {
      "image/png": "[encoded data removed]",
      "text/plain": [
       "<Figure size 432x288 with 2 Axes>"
      ]
     },
     "metadata": {
      "image/png": {
       "height": 262,
       "width": 379
      },
      "needs_background": "light"
     },
     "output_type": "display_data"
    }
   ],
   "source": [
    "\n",
    "import seaborn as sns\n",
    "sns.heatmap(cm,annot=True,fmt='d')\n",
    "plt.xlabel('Predicted')\n",
    "plt.ylabel(\"true\")"
   ]
  },
  {
   "cell_type": "markdown",
   "metadata": {
    "created_in_deepnote_cell": true,
    "deepnote_cell_type": "markdown",
    "tags": []
   },
   "source": [
    "<a style='text-decoration:none;line-height:16px;display:flex;color:#5B5B62;padding:10px;justify-content:end;' href='https://deepnote.com?utm_source=created-in-deepnote-cell&projectId=cc383444-b5ea-406a-bd5b-5ffb76e7fbf6' target=\"_blank\">\n",
    "<img alt='Created in deepnote.com' style='display:inline;max-height:16px;margin:0px;margin-right:7.5px;' src='data:image/svg+xml;base64,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' > </img>\n",
    "Created in <span style='font-weight:600;margin-left:4px;'>Deepnote</span></a>"
   ]
  }
 ],
 "metadata": {
  "deepnote": {
   "is_reactive": false
  },
  "deepnote_execution_queue": [],
  "deepnote_notebook_id": "f5c98dfa-7172-4092-bba8-2c07c147b1c4",
  "kernelspec": {
   "display_name": "Python 3 (ipykernel)",
   "language": "python",
   "name": "python3"
  },
  "language_info": {
   "codemirror_mode": {
    "name": "ipython",
    "version": 3
   },
   "file_extension": ".py",
   "mimetype": "text/x-python",
   "name": "python",
   "nbconvert_exporter": "python",
   "pygments_lexer": "ipython3",
   "version": "3.9.7"
  }
 },
 "nbformat": 4,
 "nbformat_minor": 2
}
