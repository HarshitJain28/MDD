{
 "cells": [
  {
   "cell_type": "code",
   "metadata": {
    "tags": [],
    "cell_id": "00003-d38b67cd-cc03-4f59-be12-2b709854ecdc",
    "deepnote_to_be_reexecuted": false,
    "source_hash": "bd27224a",
    "execution_start": 1632132716087,
    "execution_millis": 3,
    "deepnote_cell_type": "code"
   },
   "source": "import numpy as np\nimport pandas as pd\n\nimport matplotlib.pyplot as plt",
   "execution_count": 12,
   "outputs": []
  },
  {
   "cell_type": "code",
   "metadata": {
    "tags": [],
    "cell_id": "00005-e800a74f-9591-4d2e-9f65-f41ddfd57417",
    "deepnote_to_be_reexecuted": false,
    "source_hash": "90990b75",
    "execution_start": 1632132718967,
    "execution_millis": 2807,
    "deepnote_cell_type": "code"
   },
   "source": "df = pd.read_csv('https://query.data.world/s/icyi7igozcq2j75fi65ackoqpeqj5g')",
   "execution_count": 13,
   "outputs": []
  },
  {
   "cell_type": "code",
   "metadata": {
    "tags": [],
    "cell_id": "00006-0e1538d0-e076-48cd-8713-74a59d5f7fee",
    "deepnote_to_be_reexecuted": false,
    "source_hash": "de1e323c",
    "execution_start": 1632132722430,
    "execution_millis": 28,
    "deepnote_cell_type": "code"
   },
   "source": "df.info()",
   "execution_count": 14,
   "outputs": [
    {
     "name": "stdout",
     "text": "<class 'pandas.core.frame.DataFrame'>\nRangeIndex: 179096 entries, 0 to 179095\nData columns (total 67 columns):\n #   Column                            Non-Null Count   Dtype \n---  ------                            --------------   ----- \n 0   Survey Year                       179096 non-null  int64 \n 1   Program Category                  179096 non-null  object\n 2   Region Served                     179096 non-null  object\n 3   Age Group                         179096 non-null  object\n 4   Sex                               179096 non-null  object\n 5   Transgender                       179096 non-null  object\n 6   Sexual Orientation                179096 non-null  object\n 7   Hispanic Ethnicity                179096 non-null  object\n 8   Race                              179096 non-null  object\n 9   Living Situation                  179096 non-null  object\n 10  Household Composition             179096 non-null  object\n 11  Preferred Language                179096 non-null  object\n 12  Veteran Status                    179096 non-null  object\n 13  Employment Status                 179096 non-null  object\n 14  Number Of Hours Worked Each Week  179096 non-null  object\n 15  Education Status                  179096 non-null  object\n 16  Special Education Services        179096 non-null  object\n 17  Mental Illness                    179096 non-null  object\n 18  Intellectual Disability           179096 non-null  object\n 19  Autism Spectrum                   179096 non-null  object\n 20  Other Developmental Disability    179096 non-null  object\n 21  Alcohol Related Disorder          179096 non-null  object\n 22  Drug Substance Disorder           179096 non-null  object\n 23  Mobility Impairment Disorder      179096 non-null  object\n 24  Hearing Visual Impairment         179096 non-null  object\n 25  Hyperlipidemia                    179096 non-null  object\n 26  High Blood Pressure               179096 non-null  object\n 27  Diabetes                          179096 non-null  object\n 28  Obesity                           179096 non-null  object\n 29  Heart Attack                      179096 non-null  object\n 30  Stroke                            179096 non-null  object\n 31  Other Cardiac                     179096 non-null  object\n 32  Pulmonary Asthma                  179096 non-null  object\n 33  Alzheimer or Dementia             179096 non-null  object\n 34  Kidney Disease                    179096 non-null  object\n 35  Liver Disease                     179096 non-null  object\n 36  Endocrine Condition               179096 non-null  object\n 37  Neurological Condition            179096 non-null  object\n 38  Traumatic Brain Injury            179096 non-null  object\n 39  Joint Disease                     179096 non-null  object\n 40  Cancer                            179096 non-null  object\n 41  Other Chronic Med Condition       179096 non-null  object\n 42  No Chronic Med Condition          179096 non-null  object\n 43  Unknown Chronic Med Condition     179096 non-null  object\n 44  Smokes                            179096 non-null  object\n 45  Received Smoking Medication       179096 non-null  object\n 46  Received Smoking Counseling       179096 non-null  object\n 47  Serious Mental Illness            179096 non-null  object\n 48  Principal Diagnosis Class         179096 non-null  object\n 49  Additional Diagnosis Class        179096 non-null  object\n 50  SSI Cash Assistance               179096 non-null  object\n 51  SSDI Cash Assistance              179096 non-null  object\n 52  Veterans Disability Benefits      179096 non-null  object\n 53  Veterans Cash Assistance          179096 non-null  object\n 54  Public Assistance Cash Program    179096 non-null  object\n 55  Other Cash Benefits               179096 non-null  object\n 56  Medicaid and Medicare Insurance   179096 non-null  object\n 57  No Insurance                      179096 non-null  object\n 58  Unknown Insurance Coverage        179096 non-null  object\n 59  Medicaid Insurance                179096 non-null  object\n 60  Medicaid Managed Insurance        179096 non-null  object\n 61  Medicare Insurance                179096 non-null  object\n 62  Private Insurance                 179096 non-null  object\n 63  Child Health Plus Insurance       179096 non-null  object\n 64  Other Insurance                   179096 non-null  object\n 65  Criminal Justice Status           179096 non-null  object\n 66  Three Digit Residence Zip Code    179096 non-null  int64 \ndtypes: int64(2), object(65)\nmemory usage: 91.5+ MB\n",
     "output_type": "stream"
    }
   ]
  },
  {
   "cell_type": "code",
   "metadata": {
    "tags": [],
    "cell_id": "00003-238af7f2-7342-4668-97e7-a4837088ad79",
    "deepnote_to_be_reexecuted": false,
    "source_hash": "fb28e551",
    "execution_start": 1632133873179,
    "execution_millis": 2,
    "deepnote_cell_type": "code"
   },
   "source": "def check(x,df):\n    fig = plt.figure(1, figsize=(18,7))\n    data_yes = df[x][df['Mental Illness']==\"YES\"]\n    data_no = df[x][df['Mental Illness']==\"NO\"]\n    plt.xlabel(x)\n    plt.ylabel(\"Ans\")\n    plt.hist([data_yes,data_no], color=['green','red'], label=['Yes','No'])\n    plt.legend()\n    plt.show()",
   "execution_count": 56,
   "outputs": []
  },
  {
   "cell_type": "code",
   "source": "new_df['Mental Illness'].value_counts()",
   "metadata": {
    "tags": [],
    "cell_id": "00004-38f9ff64-4384-4a2a-8bce-9f620f108338",
    "deepnote_to_be_reexecuted": false,
    "source_hash": "c7e47325",
    "execution_start": 1632133182975,
    "execution_millis": 9,
    "deepnote_cell_type": "code"
   },
   "outputs": [
    {
     "output_type": "execute_result",
     "execution_count": 26,
     "data": {
      "text/plain": "NO     166407\nYES     12689\nName: Mental Illness, dtype: int64"
     },
     "metadata": {}
    }
   ],
   "execution_count": 26
  },
  {
   "cell_type": "code",
   "metadata": {
    "tags": [],
    "cell_id": "00004-84b06d7d-f9d7-4d34-a2e2-cef85fa0c93b",
    "deepnote_to_be_reexecuted": false,
    "source_hash": "d5ed6b19",
    "execution_start": 1632132955696,
    "execution_millis": 37,
    "deepnote_cell_type": "code"
   },
   "source": "new_df = df[['Age Group','Sex','Race','Employment Status','Education Status','Alcohol Related Disorder','Drug Substance Disorder','High Blood Pressure','Obesity','Diabetes','Smokes','Serious Mental Illness','Medicaid and Medicare Insurance','SSI Cash Assistance', 'Mental Illness']].copy()",
   "execution_count": 22,
   "outputs": []
  },
  {
   "cell_type": "code",
   "source": "new_df['SSI Cash Assistance'].value_counts()",
   "metadata": {
    "tags": [],
    "cell_id": "00006-c92ad6dc-05cd-440b-b04b-0b2dabd51707",
    "deepnote_to_be_reexecuted": false,
    "source_hash": "90445859",
    "execution_start": 1632134807489,
    "execution_millis": 18,
    "deepnote_cell_type": "code"
   },
   "outputs": [
    {
     "output_type": "execute_result",
     "execution_count": 101,
     "data": {
      "text/plain": "NO         101470\nYES         59478\nUNKNOWN     18148\nName: SSI Cash Assistance, dtype: int64"
     },
     "metadata": {}
    }
   ],
   "execution_count": 101
  },
  {
   "cell_type": "code",
   "source": "def education(status):\n    if status == 'MIDDLE SCHOOL TO HIGH SCHOOL':\n        return 'High School'\n    elif status in [\"COLLEGE OR GRADUATE DEGREE\",'SOME COLLEGE']:\n        return 'College'\n    else:\n        return 'Unknown'",
   "metadata": {
    "tags": [],
    "cell_id": "00008-bf040cd8-84a2-499b-94b2-52376e671e7d",
    "deepnote_to_be_reexecuted": false,
    "source_hash": "dcd5412b",
    "execution_start": 1632134151726,
    "execution_millis": 2,
    "deepnote_cell_type": "code"
   },
   "outputs": [],
   "execution_count": 59
  },
  {
   "cell_type": "markdown",
   "source": "<a style='text-decoration:none;line-height:16px;display:flex;color:#5B5B62;padding:10px;justify-content:end;' href='https://deepnote.com?utm_source=created-in-deepnote-cell&projectId=cc383444-b5ea-406a-bd5b-5ffb76e7fbf6' target=\"_blank\">\n<img alt='Created in deepnote.com' style='display:inline;max-height:16px;margin:0px;margin-right:7.5px;' src='data:image/svg+xml;base64,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' > </img>\nCreated in <span style='font-weight:600;margin-left:4px;'>Deepnote</span></a>",
   "metadata": {
    "tags": [],
    "created_in_deepnote_cell": true,
    "deepnote_cell_type": "markdown"
   }
  }
 ],
 "nbformat": 4,
 "nbformat_minor": 2,
 "metadata": {
  "orig_nbformat": 2,
  "deepnote": {
   "is_reactive": false
  },
  "deepnote_notebook_id": "f5c98dfa-7172-4092-bba8-2c07c147b1c4",
  "deepnote_execution_queue": []
 }
}